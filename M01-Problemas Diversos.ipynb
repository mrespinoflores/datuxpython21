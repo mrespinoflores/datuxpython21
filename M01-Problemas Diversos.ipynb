{
 "cells": [
  {
   "cell_type": "markdown",
   "metadata": {},
   "source": [
    "# PROBLEMAS DIVERSOS"
   ]
  },
  {
   "cell_type": "markdown",
   "metadata": {},
   "source": [
    "<h3>1.</h3>\n",
    "Imagina que acabas de abrir una nueva cuenta de ahorros que te ofrece el 4% de interés al año. Estos ahorros debido a intereses, que no se cobran hasta finales de año, se te añaden al balance final de tu cuenta de ahorros. Escribir un programa que comience leyendo la cantidad de dinero depositada en la cuenta de ahorros, introducida por el usuario. Después el programa debe calcular y mostrar por pantalla la cantidad de ahorros tras el primer, segundo y tercer años. Redondear cada cantidad a dos decimales."
   ]
  },
  {
   "cell_type": "code",
   "execution_count": 38,
   "metadata": {},
   "outputs": [
    {
     "name": "stdin",
     "output_type": "stream",
     "text": [
      "Ingrese cantidad de dinero depositada en su nueva cuenta de ahorros: S/  300\n"
     ]
    },
    {
     "name": "stdout",
     "output_type": "stream",
     "text": [
      "300.0\n"
     ]
    }
   ],
   "source": [
    "deposito = float(input('Ingrese cantidad de dinero depositada en su nueva cuenta de ahorros: S/ '))\n",
    "print(deposito)"
   ]
  },
  {
   "cell_type": "code",
   "execution_count": 39,
   "metadata": {},
   "outputs": [
    {
     "name": "stdout",
     "output_type": "stream",
     "text": [
      "Tras el primer año, usted habrá acumulado: S/ 312.0\n",
      "Tras el segundo año, usted habrá acumulado: S/ 324.48\n",
      "Tras el tercer año, usted habrá acumulado: S/ 337.46\n"
     ]
    }
   ],
   "source": [
    "año1=deposito+(deposito*0.04)\n",
    "print('Tras el primer año, usted habrá acumulado: S/ {}'.format(round(año1,2)))\n",
    "año2=año1+(año1*0.04)\n",
    "print('Tras el segundo año, usted habrá acumulado: S/ {}'.format(round(año2,2)))\n",
    "año3=año2+(año2*0.04)\n",
    "print('Tras el tercer año, usted habrá acumulado: S/ {}'.format(round(año3,2)))"
   ]
  },
  {
   "cell_type": "markdown",
   "metadata": {},
   "source": [
    "### 2.\n",
    "Escriba un programa que pida los coeficientes de una ecuación de segundo grado <code>(a x² + b x + c = 0)</code> y escriba la solución.\n",
    "\n",
    "Se recuerda que una ecuación de segundo grado puede no tener solución, tener una solución única, tener dos soluciones o que todos los números sean solución."
   ]
  },
  {
   "cell_type": "markdown",
   "metadata": {},
   "source": [
    "<img src='https://i.pinimg.com/originals/d3/f7/01/d3f701528ad56ce0f5a98d7c91722fd7.png'>"
   ]
  },
  {
   "cell_type": "markdown",
   "metadata": {},
   "source": [
    "Su programa debe indicar:\n",
    "- En caso la ecuación cuadrática tenga solución real, su programa debe brindar la solución\n",
    "- En caso su ecuación no tenga solución real, su programa debe brindar un mensaje que diga \"Ecuación no presenta solución real\""
   ]
  },
  {
   "cell_type": "code",
   "execution_count": 35,
   "metadata": {},
   "outputs": [
    {
     "name": "stdin",
     "output_type": "stream",
     "text": [
      "Ingrese el primer coeficiente:  2\n",
      "Ingrese el segundo coeficiente:  4\n",
      "Ingrese el tercer coeficiente:  5\n"
     ]
    }
   ],
   "source": [
    "coe1 = int(input('Ingrese el primer coeficiente: '))\n",
    "coe2 = int(input('Ingrese el segundo coeficiente: '))\n",
    "coe3 = int(input('Ingrese el tercer coeficiente: '))"
   ]
  },
  {
   "cell_type": "code",
   "execution_count": 1,
   "metadata": {},
   "outputs": [
    {
     "name": "stdin",
     "output_type": "stream",
     "text": [
      "Ingrese el coeficiente de la variable cuadrática\n",
      " 2\n",
      "Ingrese el coeficiente de la variable lineal\n",
      " 4\n",
      "Ingrese el término independiente\n",
      " -6\n"
     ]
    },
    {
     "name": "stdout",
     "output_type": "stream",
     "text": [
      "Las soluciones de la ecuación son:\n",
      "1. 1.0\n",
      "2. -3.0\n"
     ]
    }
   ],
   "source": [
    "from math import sqrt\n",
    "\n",
    "A = int(input(\"Ingrese el coeficiente de la variable cuadrática\\n\"))\n",
    "B = int(input(\"Ingrese el coeficiente de la variable lineal\\n\"))\n",
    "C = int(input(\"Ingrese el término independiente\\n\"))\n",
    "\n",
    "x1= 0\n",
    "x2= 0\n",
    "\n",
    "if ((B**2)-4*A*C) < 0:\n",
    "  print(\"La solución de la ecuación es con números complejos.\")\n",
    "\n",
    "else:\n",
    "  x1 = (-B+sqrt(B**2-(4*A*C)))/(2*A)\n",
    "  x2 = (-B-sqrt(B**2-(4*A*C)))/(2*A)\n",
    "    \n",
    "  print(\"Las soluciones de la ecuación son:\")\n",
    "\n",
    "  print('1. {}'.format(x1))\n",
    "  print('2. {}'.format(x2))"
   ]
  }
 ],
 "metadata": {
  "kernelspec": {
   "display_name": "Python 3",
   "language": "python",
   "name": "python3"
  },
  "language_info": {
   "codemirror_mode": {
    "name": "ipython",
    "version": 3
   },
   "file_extension": ".py",
   "mimetype": "text/x-python",
   "name": "python",
   "nbconvert_exporter": "python",
   "pygments_lexer": "ipython3",
   "version": "3.8.5"
  }
 },
 "nbformat": 4,
 "nbformat_minor": 4
}
